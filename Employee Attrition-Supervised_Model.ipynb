{
 "cells": [
  {
   "cell_type": "code",
   "execution_count": 1,
   "metadata": {},
   "outputs": [],
   "source": [
    "# Import dependencies and file\n",
    "# The dataset was obtained from HR Source.\n",
    "import numpy as np\n",
    "import pandas as pd\n",
    "import matplotlib.pyplot as plt\n",
    "from pathlib import Path\n",
    "file_path = Path(\"HR_Analytics.Employee_Attrition.csv\")\n"
   ]
  },
  {
   "cell_type": "code",
   "execution_count": 2,
   "metadata": {
    "scrolled": false
   },
   "outputs": [
    {
     "data": {
      "text/html": [
       "<div>\n",
       "<style scoped>\n",
       "    .dataframe tbody tr th:only-of-type {\n",
       "        vertical-align: middle;\n",
       "    }\n",
       "\n",
       "    .dataframe tbody tr th {\n",
       "        vertical-align: top;\n",
       "    }\n",
       "\n",
       "    .dataframe thead th {\n",
       "        text-align: right;\n",
       "    }\n",
       "</style>\n",
       "<table border=\"1\" class=\"dataframe\">\n",
       "  <thead>\n",
       "    <tr style=\"text-align: right;\">\n",
       "      <th></th>\n",
       "      <th>EMPID</th>\n",
       "      <th>Leaver(Y/N)</th>\n",
       "      <th>Age</th>\n",
       "      <th>Gender</th>\n",
       "      <th>Race_Ethnicity</th>\n",
       "      <th>Job_Level</th>\n",
       "      <th>Annual_Salary</th>\n",
       "      <th>Position</th>\n",
       "      <th>CurrentPayGrade</th>\n",
       "      <th>TimewithCompany(yrs)</th>\n",
       "      <th>DistancetoWork(miles)</th>\n",
       "      <th>Hybrid/Remote</th>\n",
       "      <th>Dept_Name</th>\n",
       "      <th>Status</th>\n",
       "      <th>Salary_Max%</th>\n",
       "    </tr>\n",
       "  </thead>\n",
       "  <tbody>\n",
       "    <tr>\n",
       "      <th>0</th>\n",
       "      <td>A0ZU</td>\n",
       "      <td>No</td>\n",
       "      <td>35</td>\n",
       "      <td>Female</td>\n",
       "      <td>Unspecified</td>\n",
       "      <td>Administrative Support Workers</td>\n",
       "      <td>20.8</td>\n",
       "      <td>Benefits and Payroll Coordinator</td>\n",
       "      <td>11</td>\n",
       "      <td>0.33</td>\n",
       "      <td>0.00</td>\n",
       "      <td>Remote</td>\n",
       "      <td>HR</td>\n",
       "      <td>Full Time</td>\n",
       "      <td>0.00</td>\n",
       "    </tr>\n",
       "    <tr>\n",
       "      <th>1</th>\n",
       "      <td>A0YO</td>\n",
       "      <td>Yes</td>\n",
       "      <td>31</td>\n",
       "      <td>Female</td>\n",
       "      <td>Unspecified</td>\n",
       "      <td>First/Mid-Level Officials and Managers</td>\n",
       "      <td>20.8</td>\n",
       "      <td>Camp Director</td>\n",
       "      <td>7</td>\n",
       "      <td>0.92</td>\n",
       "      <td>45.21</td>\n",
       "      <td>Hybrid</td>\n",
       "      <td>Outdoor Education - CTR</td>\n",
       "      <td>Full Time</td>\n",
       "      <td>0.00</td>\n",
       "    </tr>\n",
       "    <tr>\n",
       "      <th>2</th>\n",
       "      <td>A03Y</td>\n",
       "      <td>Yes</td>\n",
       "      <td>63</td>\n",
       "      <td>Male</td>\n",
       "      <td>Black or African American</td>\n",
       "      <td>Laborers and Helpers</td>\n",
       "      <td>9,547.20</td>\n",
       "      <td>Guest Services and Maintenance Specialist - PT</td>\n",
       "      <td>13</td>\n",
       "      <td>3.58</td>\n",
       "      <td>41.49</td>\n",
       "      <td>Hybrid</td>\n",
       "      <td>Risk and Facilities</td>\n",
       "      <td>Part Time</td>\n",
       "      <td>0.21</td>\n",
       "    </tr>\n",
       "    <tr>\n",
       "      <th>3</th>\n",
       "      <td>A13D</td>\n",
       "      <td>Yes</td>\n",
       "      <td>29</td>\n",
       "      <td>Female</td>\n",
       "      <td>White</td>\n",
       "      <td>Sales Workers</td>\n",
       "      <td>10,400.00</td>\n",
       "      <td>Customer Service Representative - PT</td>\n",
       "      <td>13</td>\n",
       "      <td>1.25</td>\n",
       "      <td>21.94</td>\n",
       "      <td>Hybrid</td>\n",
       "      <td>Badge &amp; Sash</td>\n",
       "      <td>Part Time</td>\n",
       "      <td>0.23</td>\n",
       "    </tr>\n",
       "    <tr>\n",
       "      <th>4</th>\n",
       "      <td>A1FN</td>\n",
       "      <td>Yes</td>\n",
       "      <td>33</td>\n",
       "      <td>Female</td>\n",
       "      <td>Black or African American</td>\n",
       "      <td>Sales Workers</td>\n",
       "      <td>10,400.00</td>\n",
       "      <td>Customer Service Representative - PT</td>\n",
       "      <td>13</td>\n",
       "      <td>7.50</td>\n",
       "      <td>0.00</td>\n",
       "      <td>Remote</td>\n",
       "      <td>Badge &amp; Sash</td>\n",
       "      <td>Part Time</td>\n",
       "      <td>0.23</td>\n",
       "    </tr>\n",
       "  </tbody>\n",
       "</table>\n",
       "</div>"
      ],
      "text/plain": [
       "   EMPID Leaver(Y/N)  Age   Gender              Race_Ethnicity  \\\n",
       "0   A0ZU          No   35   Female                 Unspecified   \n",
       "1   A0YO         Yes   31   Female                 Unspecified   \n",
       "2   A03Y         Yes   63     Male   Black or African American   \n",
       "3   A13D         Yes   29   Female                       White   \n",
       "4   A1FN         Yes   33   Female   Black or African American   \n",
       "\n",
       "                                 Job_Level Annual_Salary  \\\n",
       "0           Administrative Support Workers          20.8   \n",
       "1   First/Mid-Level Officials and Managers          20.8   \n",
       "2                     Laborers and Helpers      9,547.20   \n",
       "3                            Sales Workers     10,400.00   \n",
       "4                            Sales Workers     10,400.00   \n",
       "\n",
       "                                          Position  CurrentPayGrade  \\\n",
       "0                 Benefits and Payroll Coordinator               11   \n",
       "1                                    Camp Director                7   \n",
       "2   Guest Services and Maintenance Specialist - PT               13   \n",
       "3             Customer Service Representative - PT               13   \n",
       "4             Customer Service Representative - PT               13   \n",
       "\n",
       "   TimewithCompany(yrs)  DistancetoWork(miles) Hybrid/Remote  \\\n",
       "0                  0.33                   0.00        Remote   \n",
       "1                  0.92                  45.21        Hybrid   \n",
       "2                  3.58                  41.49        Hybrid   \n",
       "3                  1.25                  21.94        Hybrid   \n",
       "4                  7.50                   0.00        Remote   \n",
       "\n",
       "                 Dept_Name      Status  Salary_Max%  \n",
       "0                       HR   Full Time         0.00  \n",
       "1  Outdoor Education - CTR   Full Time         0.00  \n",
       "2      Risk and Facilities   Part Time         0.21  \n",
       "3             Badge & Sash   Part Time         0.23  \n",
       "4             Badge & Sash   Part Time         0.23  "
      ]
     },
     "execution_count": 2,
     "metadata": {},
     "output_type": "execute_result"
    }
   ],
   "source": [
    "# Read csv file in to dataframe\n",
    "employee_df = pd.read_csv(file_path)\n",
    "employee_df.head()"
   ]
  },
  {
   "cell_type": "code",
   "execution_count": 3,
   "metadata": {
    "scrolled": false
   },
   "outputs": [
    {
     "name": "stdout",
     "output_type": "stream",
     "text": [
      "<class 'pandas.core.frame.DataFrame'>\n",
      "RangeIndex: 364 entries, 0 to 363\n",
      "Data columns (total 15 columns):\n",
      " #   Column                 Non-Null Count  Dtype  \n",
      "---  ------                 --------------  -----  \n",
      " 0   EMPID                  364 non-null    object \n",
      " 1   Leaver(Y/N)            364 non-null    object \n",
      " 2   Age                    364 non-null    int64  \n",
      " 3   Gender                 364 non-null    object \n",
      " 4   Race_Ethnicity         364 non-null    object \n",
      " 5   Job_Level              364 non-null    object \n",
      " 6   Annual_Salary          364 non-null    object \n",
      " 7   Position               364 non-null    object \n",
      " 8   CurrentPayGrade        364 non-null    int64  \n",
      " 9   TimewithCompany(yrs)   364 non-null    float64\n",
      " 10  DistancetoWork(miles)  364 non-null    float64\n",
      " 11  Hybrid/Remote          364 non-null    object \n",
      " 12  Dept_Name              364 non-null    object \n",
      " 13  Status                 364 non-null    object \n",
      " 14  Salary_Max%            364 non-null    float64\n",
      "dtypes: float64(3), int64(2), object(10)\n",
      "memory usage: 42.8+ KB\n"
     ]
    }
   ],
   "source": [
    "employee_df.info()"
   ]
  },
  {
   "cell_type": "code",
   "execution_count": 4,
   "metadata": {},
   "outputs": [
    {
     "data": {
      "text/plain": [
       "Membership                 86\n",
       "Program Support            38\n",
       "Member Care                30\n",
       "Badge & Sash               25\n",
       "Business Systems           24\n",
       "Fund Development           21\n",
       "Outdoor Education - CMM    17\n",
       "Marketing                  17\n",
       "Finance                    13\n",
       "Risk and Facilities        12\n",
       "Outdoor Education - CMW    10\n",
       "Outdoor Property - CMM     10\n",
       "Outdoor Program             9\n",
       "HR                          9\n",
       "Product Programs            8\n",
       "Outdoor Property - CTR      8\n",
       "Outdoor Property - CMW      7\n",
       "Mission Delivery            7\n",
       "IT                          6\n",
       "Outdoor Education - CTR     5\n",
       "CEO                         2\n",
       "Name: Dept_Name, dtype: int64"
      ]
     },
     "execution_count": 4,
     "metadata": {},
     "output_type": "execute_result"
    }
   ],
   "source": [
    "employee_df['Dept_Name'].value_counts()"
   ]
  },
  {
   "cell_type": "code",
   "execution_count": 5,
   "metadata": {},
   "outputs": [],
   "source": [
    "employee_df['Dept_Name'].replace({\"Outdoor Education - CMM\":\"Outdoor Education\",\"Outdoor Education - CMW\":\"Outdoor Education\",\"Outdoor Education - CTR\":\"Outdoor Education\"}, inplace=True)"
   ]
  },
  {
   "cell_type": "code",
   "execution_count": 6,
   "metadata": {
    "scrolled": true
   },
   "outputs": [
    {
     "data": {
      "text/plain": [
       "Membership                86\n",
       "Program Support           38\n",
       "Outdoor Education         32\n",
       "Member Care               30\n",
       "Badge & Sash              25\n",
       "Business Systems          24\n",
       "Fund Development          21\n",
       "Marketing                 17\n",
       "Finance                   13\n",
       "Risk and Facilities       12\n",
       "Outdoor Property - CMM    10\n",
       "HR                         9\n",
       "Outdoor Program            9\n",
       "Product Programs           8\n",
       "Outdoor Property - CTR     8\n",
       "Outdoor Property - CMW     7\n",
       "Mission Delivery           7\n",
       "IT                         6\n",
       "CEO                        2\n",
       "Name: Dept_Name, dtype: int64"
      ]
     },
     "execution_count": 6,
     "metadata": {},
     "output_type": "execute_result"
    }
   ],
   "source": [
    "employee_df['Dept_Name'].value_counts()"
   ]
  },
  {
   "cell_type": "code",
   "execution_count": 7,
   "metadata": {},
   "outputs": [],
   "source": [
    "employee_df['Dept_Name'].replace({\"Outdoor Property - CMM\":\"Outdoor Property\",\"Outdoor Property - CMW\":\"Outdoor Property\",\"Outdoor Property - CTR\":\"Outdoor Property\"}, inplace=True)"
   ]
  },
  {
   "cell_type": "code",
   "execution_count": 8,
   "metadata": {},
   "outputs": [],
   "source": [
    "employee_df['Dept_Name'].replace({\"Member Care\":\"Membership\"}, inplace=True)"
   ]
  },
  {
   "cell_type": "code",
   "execution_count": 9,
   "metadata": {
    "scrolled": true
   },
   "outputs": [
    {
     "data": {
      "text/plain": [
       "Membership             116\n",
       "Program Support         38\n",
       "Outdoor Education       32\n",
       "Outdoor Property        25\n",
       "Badge & Sash            25\n",
       "Business Systems        24\n",
       "Fund Development        21\n",
       "Marketing               17\n",
       "Finance                 13\n",
       "Risk and Facilities     12\n",
       "HR                       9\n",
       "Outdoor Program          9\n",
       "Product Programs         8\n",
       "Mission Delivery         7\n",
       "IT                       6\n",
       "CEO                      2\n",
       "Name: Dept_Name, dtype: int64"
      ]
     },
     "execution_count": 9,
     "metadata": {},
     "output_type": "execute_result"
    }
   ],
   "source": [
    "employee_df['Dept_Name'].value_counts()"
   ]
  },
  {
   "cell_type": "code",
   "execution_count": 10,
   "metadata": {},
   "outputs": [],
   "source": [
    "employee_df.to_csv(\"Employee_Attrition.csv\")"
   ]
  },
  {
   "cell_type": "code",
   "execution_count": 11,
   "metadata": {
    "scrolled": true
   },
   "outputs": [
    {
     "data": {
      "text/plain": [
       "Yes    245\n",
       "No     119\n",
       "Name: Leaver(Y/N), dtype: int64"
      ]
     },
     "execution_count": 11,
     "metadata": {},
     "output_type": "execute_result"
    }
   ],
   "source": [
    "# Determine the number of employees that left the organization vs those that have stayed\n",
    "employee_df['Leaver(Y/N)'].value_counts()"
   ]
  },
  {
   "cell_type": "code",
   "execution_count": 12,
   "metadata": {},
   "outputs": [
    {
     "name": "stdout",
     "output_type": "stream",
     "text": [
      "Percentage of Current Employees is 32.7% and of Former Employees is: 67.3%\n"
     ]
    }
   ],
   "source": [
    "print(\"Percentage of Current Employees is {:.1f}% and of Former Employees is: {:.1f}%\".format(\n",
    "    employee_df[employee_df['Leaver(Y/N)'] == 'No'].shape[0] / employee_df.shape[0]*100,\n",
    "    employee_df[employee_df['Leaver(Y/N)'] == 'Yes'].shape[0] / employee_df.shape[0]*100))"
   ]
  },
  {
   "cell_type": "code",
   "execution_count": 13,
   "metadata": {
    "scrolled": true
   },
   "outputs": [
    {
     "data": {
      "text/plain": [
       "Text(0, 0.5, '# of employees')"
      ]
     },
     "execution_count": 13,
     "metadata": {},
     "output_type": "execute_result"
    },
    {
     "data": {
      "image/png": "[encoded data removed]",
      "text/plain": [
       "<Figure size 1080x576 with 1 Axes>"
      ]
     },
     "metadata": {
      "needs_background": "light"
     },
     "output_type": "display_data"
    }
   ],
   "source": [
    "# Plot Leavers \n",
    "leavers = employee_df['Leaver(Y/N)'].value_counts()\n",
    "leavers.plot(kind=\"bar\",color=['blue','orange'],figsize=(15, 8))\n",
    "plt.title(\"Number of Leavers\")\n",
    "plt.xlabel(\"Leavers\")\n",
    "plt.ylabel(\"# of employees\")"
   ]
  },
  {
   "cell_type": "code",
   "execution_count": 14,
   "metadata": {
    "scrolled": true
   },
   "outputs": [
    {
     "data": {
      "text/plain": [
       "<seaborn.axisgrid.JointGrid at 0x2024c069eb0>"
      ]
     },
     "execution_count": 14,
     "metadata": {},
     "output_type": "execute_result"
    },
    {
     "data": {
      "image/png": "[encoded data removed]",
      "text/plain": [
       "<Figure size 432x432 with 3 Axes>"
      ]
     },
     "metadata": {
      "needs_background": "light"
     },
     "output_type": "display_data"
    }
   ],
   "source": [
    "import seaborn as sns\n",
    "# Plot Leavers by Age\n",
    "sns.jointplot(x='Leaver(Y/N)',y='Age',data=employee_df)"
   ]
  },
  {
   "cell_type": "code",
   "execution_count": 15,
   "metadata": {},
   "outputs": [
    {
     "data": {
      "text/plain": [
       "Text(0, 0.5, '# of employees')"
      ]
     },
     "execution_count": 15,
     "metadata": {},
     "output_type": "execute_result"
    },
    {
     "data": {
      "image/png": "[encoded data removed]",
      "text/plain": [
       "<Figure size 432x288 with 1 Axes>"
      ]
     },
     "metadata": {
      "needs_background": "light"
     },
     "output_type": "display_data"
    }
   ],
   "source": [
    "# Plot Leavers by Age\n",
    "pd.crosstab(employee_df['Age'],employee_df['Leaver(Y/N)']).plot(kind='bar', color=['orange','blue'])\n",
    "plt.title(\"Leavers based on Age\")\n",
    "plt.xlabel(\"Leavers\")\n",
    "plt.ylabel(\"# of employees\")"
   ]
  },
  {
   "cell_type": "code",
   "execution_count": 16,
   "metadata": {
    "scrolled": true
   },
   "outputs": [
    {
     "data": {
      "text/plain": [
       "Text(0, 0.5, '# of employees')"
      ]
     },
     "execution_count": 16,
     "metadata": {},
     "output_type": "execute_result"
    },
    {
     "data": {
      "image/png": "[encoded data removed]",
      "text/plain": [
       "<Figure size 432x288 with 1 Axes>"
      ]
     },
     "metadata": {
      "needs_background": "light"
     },
     "output_type": "display_data"
    }
   ],
   "source": [
    "# Plot Leavers by Gender\n",
    "pd.crosstab(employee_df['Gender'],employee_df['Leaver(Y/N)']).plot(kind='bar', color=['orange','blue'])\n",
    "plt.title(\"Leavers based on Gender\")\n",
    "plt.xlabel(\"Leavers\")\n",
    "plt.ylabel(\"# of employees\")"
   ]
  },
  {
   "cell_type": "code",
   "execution_count": 17,
   "metadata": {
    "scrolled": true
   },
   "outputs": [
    {
     "data": {
      "text/plain": [
       "<seaborn.axisgrid.JointGrid at 0x2024dfa5340>"
      ]
     },
     "execution_count": 17,
     "metadata": {},
     "output_type": "execute_result"
    },
    {
     "data": {
      "image/png": "[encoded data removed]",
      "text/plain": [
       "<Figure size 432x432 with 3 Axes>"
      ]
     },
     "metadata": {
      "needs_background": "light"
     },
     "output_type": "display_data"
    }
   ],
   "source": [
    "# Plot Leavers by Race_Ethnicity\n",
    "sns.jointplot(x='Leaver(Y/N)',y='Race_Ethnicity',kind = \"scatter\",data=employee_df)\n",
    "# pd.crosstab(employee_df['Race_Ethnicity'],employee_df['Stay/Left']).plot(kind='bar', color=['orange','blue'])\n",
    "# plt.title(\"Leavers based on Daily Rate\")\n",
    "# plt.xlabel(\"Leavers\")\n",
    "# plt.ylabel(\"# of employees\")\n",
    "# plt.legend([\"Stay\",\"Left\"])"
   ]
  },
  {
   "cell_type": "code",
   "execution_count": 18,
   "metadata": {},
   "outputs": [
    {
     "data": {
      "text/plain": [
       "Text(0, 0.5, '# of employees')"
      ]
     },
     "execution_count": 18,
     "metadata": {},
     "output_type": "execute_result"
    },
    {
     "data": {
      "image/png": "[encoded data removed]",
      "text/plain": [
       "<Figure size 432x288 with 1 Axes>"
      ]
     },
     "metadata": {
      "needs_background": "light"
     },
     "output_type": "display_data"
    }
   ],
   "source": [
    "# Plot Leavers by Job_Level\n",
    "pd.crosstab(employee_df['Job_Level'],employee_df['Leaver(Y/N)']).plot(kind='bar', color=['orange','blue'])\n",
    "plt.title(\"Leavers based on Job Level\")\n",
    "plt.xlabel(\"Leavers\")\n",
    "plt.ylabel(\"# of employees\")\n",
    "# plt.legend([\"Stay\",\"Left\"])"
   ]
  },
  {
   "cell_type": "code",
   "execution_count": 19,
   "metadata": {},
   "outputs": [
    {
     "data": {
      "text/plain": [
       "<seaborn.axisgrid.JointGrid at 0x2024e070f40>"
      ]
     },
     "execution_count": 19,
     "metadata": {},
     "output_type": "execute_result"
    },
    {
     "data": {
      "image/png": "[encoded data removed]",
      "text/plain": [
       "<Figure size 432x432 with 3 Axes>"
      ]
     },
     "metadata": {
      "needs_background": "light"
     },
     "output_type": "display_data"
    }
   ],
   "source": [
    "# Plot Leavers by Annual_Salary\n",
    "sns.jointplot(x='Leaver(Y/N)',y='Annual_Salary',kind = \"scatter\",data=employee_df)\n",
    "# pd.crosstab(employee_df['Annual_Salary'],employee_df['Leaver(Y/N)']).plot(kind='bar', color=['orange','blue'])\n",
    "# plt.title(\"Leavers based on Annual Salary\")\n",
    "# plt.xlabel(\"Leavers\")\n",
    "# plt.ylabel(\"# of employees\")\n",
    "# plt.legend([\"Stay\",\"Left\"])"
   ]
  },
  {
   "cell_type": "code",
   "execution_count": 20,
   "metadata": {},
   "outputs": [
    {
     "data": {
      "text/plain": [
       "Text(0, 0.5, '# of employees')"
      ]
     },
     "execution_count": 20,
     "metadata": {},
     "output_type": "execute_result"
    },
    {
     "data": {
      "image/png": "[encoded data removed]",
      "text/plain": [
       "<Figure size 432x288 with 1 Axes>"
      ]
     },
     "metadata": {
      "needs_background": "light"
     },
     "output_type": "display_data"
    }
   ],
   "source": [
    "# Plot Leavers by Current Pay Grade\n",
    "pd.crosstab(employee_df['CurrentPayGrade'],employee_df['Leaver(Y/N)']).plot(kind='bar', color=['orange','blue'])\n",
    "plt.title(\"Leavers based on Current Pay Grade\")\n",
    "plt.xlabel(\"Leavers\")\n",
    "plt.ylabel(\"# of employees\")\n",
    "# plt.legend([\"Stay\",\"Left\"])"
   ]
  },
  {
   "cell_type": "code",
   "execution_count": 21,
   "metadata": {},
   "outputs": [
    {
     "data": {
      "text/plain": [
       "<seaborn.axisgrid.JointGrid at 0x2024e998910>"
      ]
     },
     "execution_count": 21,
     "metadata": {},
     "output_type": "execute_result"
    },
    {
     "data": {
      "image/png": "[encoded data removed]",
      "text/plain": [
       "<Figure size 432x432 with 3 Axes>"
      ]
     },
     "metadata": {
      "needs_background": "light"
     },
     "output_type": "display_data"
    }
   ],
   "source": [
    "# Plot Leavers by Total Working Years\n",
    "sns.jointplot(x='Leaver(Y/N)',y='TimewithCompany(yrs)',kind = \"scatter\",data=employee_df)\n",
    "# pd.crosstab(employee_df['TotalWorkingYears'],employee_df['Stay/Left']).plot(kind='bar', color=['orange','blue'])\n",
    "# plt.title(\"Leavers based on Total Working Years\")\n",
    "# plt.xlabel(\"Leavers\")\n",
    "# plt.ylabel(\"# of employees\")\n",
    "# plt.legend([\"Stay\",\"Left\"])"
   ]
  },
  {
   "cell_type": "code",
   "execution_count": 22,
   "metadata": {},
   "outputs": [
    {
     "data": {
      "text/plain": [
       "<seaborn.axisgrid.JointGrid at 0x2024fb0c130>"
      ]
     },
     "execution_count": 22,
     "metadata": {},
     "output_type": "execute_result"
    },
    {
     "data": {
      "image/png": "[encoded data removed]",
      "text/plain": [
       "<Figure size 432x432 with 3 Axes>"
      ]
     },
     "metadata": {
      "needs_background": "light"
     },
     "output_type": "display_data"
    }
   ],
   "source": [
    "# Plot Leavers by Distance From Home\n",
    "sns.jointplot(x='Leaver(Y/N)',y='DistancetoWork(miles)',kind = \"scatter\",data=employee_df)\n",
    "# pd.crosstab(employee_df['DistanceFromHome'],employee_df['Stay/Left']).plot(kind='bar', color=['orange','blue'])\n",
    "# plt.title(\"Leavers based on Distance From Home\")\n",
    "# plt.xlabel(\"Leavers\")\n",
    "# plt.ylabel(\"# of employees\")\n",
    "# plt.legend([\"Stay\",\"Left\"])"
   ]
  },
  {
   "cell_type": "code",
   "execution_count": 23,
   "metadata": {},
   "outputs": [
    {
     "data": {
      "text/plain": [
       "Text(0, 0.5, '# of employees')"
      ]
     },
     "execution_count": 23,
     "metadata": {},
     "output_type": "execute_result"
    },
    {
     "data": {
      "image/png": "[encoded data removed]",
      "text/plain": [
       "<Figure size 432x288 with 1 Axes>"
      ]
     },
     "metadata": {
      "needs_background": "light"
     },
     "output_type": "display_data"
    }
   ],
   "source": [
    "# Plot Leavers by Department\n",
    "pd.crosstab(employee_df['Dept_Name'],employee_df['Leaver(Y/N)']).plot(kind='bar', color=['orange','blue'])\n",
    "plt.title(\"Leavers based on Department\")\n",
    "plt.xlabel(\"Leavers\")\n",
    "plt.ylabel(\"# of employees\")\n",
    "# plt.legend([\"Stay\",\"Left\"])"
   ]
  },
  {
   "cell_type": "code",
   "execution_count": 24,
   "metadata": {},
   "outputs": [
    {
     "data": {
      "text/plain": [
       "Text(0, 0.5, '# of employees')"
      ]
     },
     "execution_count": 24,
     "metadata": {},
     "output_type": "execute_result"
    },
    {
     "data": {
      "image/png": "[encoded data removed]",
      "text/plain": [
       "<Figure size 432x288 with 1 Axes>"
      ]
     },
     "metadata": {
      "needs_background": "light"
     },
     "output_type": "display_data"
    }
   ],
   "source": [
    "# Plot Leavers by Employee Status\n",
    "pd.crosstab(employee_df['Status'],employee_df['Leaver(Y/N)']).plot(kind='bar', color=['orange','blue'])\n",
    "plt.title(\"Leavers based on Employee Status\")\n",
    "plt.xlabel(\"Leavers\")\n",
    "plt.ylabel(\"# of employees\")\n",
    "# plt.legend([\"Stay\",\"Left\"])"
   ]
  },
  {
   "cell_type": "code",
   "execution_count": 25,
   "metadata": {},
   "outputs": [
    {
     "data": {
      "text/plain": [
       "Text(0, 0.5, '# of employees')"
      ]
     },
     "execution_count": 25,
     "metadata": {},
     "output_type": "execute_result"
    },
    {
     "data": {
      "image/png": "[encoded data removed]",
      "text/plain": [
       "<Figure size 432x288 with 1 Axes>"
      ]
     },
     "metadata": {
      "needs_background": "light"
     },
     "output_type": "display_data"
    }
   ],
   "source": [
    "# Plot Leavers by Employee Environment Type\n",
    "pd.crosstab(employee_df['Hybrid/Remote'],employee_df['Leaver(Y/N)']).plot(kind='bar', color=['orange','blue'])\n",
    "plt.title(\"Leavers based on Employee Environment Type\")\n",
    "plt.xlabel(\"Leavers\")\n",
    "plt.ylabel(\"# of employees\")\n",
    "# plt.legend([\"Stay\",\"Left\"])"
   ]
  },
  {
   "cell_type": "code",
   "execution_count": 26,
   "metadata": {},
   "outputs": [
    {
     "data": {
      "text/plain": [
       "Text(0, 0.5, '# of employees')"
      ]
     },
     "execution_count": 26,
     "metadata": {},
     "output_type": "execute_result"
    },
    {
     "data": {
      "image/png": "[encoded data removed]",
      "text/plain": [
       "<Figure size 432x288 with 1 Axes>"
      ]
     },
     "metadata": {
      "needs_background": "light"
     },
     "output_type": "display_data"
    }
   ],
   "source": [
    "# Plot Leavers by Max Salary %\n",
    "pd.crosstab(employee_df['Salary_Max%'],employee_df['Leaver(Y/N)']).plot(kind='bar', color=['orange','blue'])\n",
    "plt.title(\"Leavers based on Max Salary %\")\n",
    "plt.xlabel(\"Leavers\")\n",
    "plt.ylabel(\"# of employees\")\n",
    "# plt.legend([\"Stay\",\"Left\"])"
   ]
  },
  {
   "cell_type": "code",
   "execution_count": 27,
   "metadata": {},
   "outputs": [
    {
     "data": {
      "text/plain": [
       "<seaborn.axisgrid.JointGrid at 0x202503ef640>"
      ]
     },
     "execution_count": 27,
     "metadata": {},
     "output_type": "execute_result"
    },
    {
     "data": {
      "image/png": "[encoded data removed]",
      "text/plain": [
       "<Figure size 432x432 with 3 Axes>"
      ]
     },
     "metadata": {
      "needs_background": "light"
     },
     "output_type": "display_data"
    }
   ],
   "source": [
    "# Plot Leavers by Year at Company\n",
    "sns.jointplot(x='Leaver(Y/N)',y='Salary_Max%',kind = \"scatter\",data=employee_df)\n",
    "\n",
    "# pd.crosstab(employee_df['YearsAtCompany'],employee_df['Stay/Left']).plot(kind='bar', color=['orange','blue'])\n",
    "# plt.title(\"Leavers based on Years at Company\")\n",
    "# plt.xlabel(\"Leavers\")\n",
    "# plt.ylabel(\"# of employees\")\n",
    "# plt.legend([\"Stay\",\"Left\"])"
   ]
  },
  {
   "cell_type": "code",
   "execution_count": 28,
   "metadata": {},
   "outputs": [
    {
     "name": "stdout",
     "output_type": "stream",
     "text": [
      "Most Positive Correlations:\n",
      " Age                0.081402\n",
      "CurrentPayGrade    0.112285\n",
      "Target             1.000000\n",
      "Name: Target, dtype: float64\n",
      "\n",
      "Most Negative Correlations:\n",
      " Salary_Max%              0.019274\n",
      "TimewithCompany(yrs)     0.025222\n",
      "DistancetoWork(miles)    0.080063\n",
      "Name: Target, dtype: float64\n"
     ]
    }
   ],
   "source": [
    "# Find correlations with the target and sort\n",
    "employee_df_trans = employee_df.copy()\n",
    "employee_df_trans['Target'] = employee_df_trans['Leaver(Y/N)'].apply(\n",
    "    lambda x: 0 if x == 'No' else 1)\n",
    "employee_df_trans = employee_df_trans.drop(\n",
    "    ['Leaver(Y/N)', 'EMPID'], axis=1)\n",
    "correlations = employee_df_trans.corr()['Target'].sort_values()\n",
    "print('Most Positive Correlations:\\n', correlations.tail(3))\n",
    "print('\\nMost Negative Correlations:\\n', correlations.head(3))"
   ]
  },
  {
   "cell_type": "code",
   "execution_count": 29,
   "metadata": {
    "scrolled": true
   },
   "outputs": [
    {
     "data": {
      "image/png": "[encoded data removed]",
      "text/plain": [
       "<Figure size 1080x720 with 2 Axes>"
      ]
     },
     "metadata": {
      "needs_background": "light"
     },
     "output_type": "display_data"
    }
   ],
   "source": [
    "corr_matrix=employee_df.corr()\n",
    "fig,ax=plt.subplots(figsize=(15,10))\n",
    "ax=sns.heatmap(corr_matrix,\n",
    "               annot=True,\n",
    "               linewidths=0.5,\n",
    "               fmt=\".2f\"\n",
    "              )"
   ]
  },
  {
   "cell_type": "code",
   "execution_count": 35,
   "metadata": {
    "scrolled": true
   },
   "outputs": [
    {
     "data": {
      "text/html": [
       "<div>\n",
       "<style scoped>\n",
       "    .dataframe tbody tr th:only-of-type {\n",
       "        vertical-align: middle;\n",
       "    }\n",
       "\n",
       "    .dataframe tbody tr th {\n",
       "        vertical-align: top;\n",
       "    }\n",
       "\n",
       "    .dataframe thead th {\n",
       "        text-align: right;\n",
       "    }\n",
       "</style>\n",
       "<table border=\"1\" class=\"dataframe\">\n",
       "  <thead>\n",
       "    <tr style=\"text-align: right;\">\n",
       "      <th></th>\n",
       "      <th>Age</th>\n",
       "      <th>Gender</th>\n",
       "      <th>Race_Ethnicity</th>\n",
       "      <th>Job_Level</th>\n",
       "      <th>Annual_Salary</th>\n",
       "      <th>Position</th>\n",
       "      <th>CurrentPayGrade</th>\n",
       "      <th>TimewithCompany(yrs)</th>\n",
       "      <th>DistancetoWork(miles)</th>\n",
       "      <th>Hybrid/Remote</th>\n",
       "      <th>Dept_Name</th>\n",
       "      <th>Salary_Max%</th>\n",
       "    </tr>\n",
       "  </thead>\n",
       "  <tbody>\n",
       "    <tr>\n",
       "      <th>0</th>\n",
       "      <td>35</td>\n",
       "      <td>Female</td>\n",
       "      <td>Unspecified</td>\n",
       "      <td>Administrative Support Workers</td>\n",
       "      <td>20.8</td>\n",
       "      <td>Benefits and Payroll Coordinator</td>\n",
       "      <td>11</td>\n",
       "      <td>0.33</td>\n",
       "      <td>0.00</td>\n",
       "      <td>1</td>\n",
       "      <td>HR</td>\n",
       "      <td>0.00</td>\n",
       "    </tr>\n",
       "    <tr>\n",
       "      <th>1</th>\n",
       "      <td>31</td>\n",
       "      <td>Female</td>\n",
       "      <td>Unspecified</td>\n",
       "      <td>First/Mid-Level Officials and Managers</td>\n",
       "      <td>20.8</td>\n",
       "      <td>Camp Director</td>\n",
       "      <td>7</td>\n",
       "      <td>0.92</td>\n",
       "      <td>45.21</td>\n",
       "      <td>0</td>\n",
       "      <td>Outdoor Education</td>\n",
       "      <td>0.00</td>\n",
       "    </tr>\n",
       "    <tr>\n",
       "      <th>2</th>\n",
       "      <td>63</td>\n",
       "      <td>Male</td>\n",
       "      <td>Black or African American</td>\n",
       "      <td>Laborers and Helpers</td>\n",
       "      <td>9,547.20</td>\n",
       "      <td>Guest Services and Maintenance Specialist - PT</td>\n",
       "      <td>13</td>\n",
       "      <td>3.58</td>\n",
       "      <td>41.49</td>\n",
       "      <td>0</td>\n",
       "      <td>Risk and Facilities</td>\n",
       "      <td>0.21</td>\n",
       "    </tr>\n",
       "    <tr>\n",
       "      <th>3</th>\n",
       "      <td>29</td>\n",
       "      <td>Female</td>\n",
       "      <td>White</td>\n",
       "      <td>Sales Workers</td>\n",
       "      <td>10,400.00</td>\n",
       "      <td>Customer Service Representative - PT</td>\n",
       "      <td>13</td>\n",
       "      <td>1.25</td>\n",
       "      <td>21.94</td>\n",
       "      <td>0</td>\n",
       "      <td>Badge &amp; Sash</td>\n",
       "      <td>0.23</td>\n",
       "    </tr>\n",
       "    <tr>\n",
       "      <th>4</th>\n",
       "      <td>33</td>\n",
       "      <td>Female</td>\n",
       "      <td>Black or African American</td>\n",
       "      <td>Sales Workers</td>\n",
       "      <td>10,400.00</td>\n",
       "      <td>Customer Service Representative - PT</td>\n",
       "      <td>13</td>\n",
       "      <td>7.50</td>\n",
       "      <td>0.00</td>\n",
       "      <td>1</td>\n",
       "      <td>Badge &amp; Sash</td>\n",
       "      <td>0.23</td>\n",
       "    </tr>\n",
       "  </tbody>\n",
       "</table>\n",
       "</div>"
      ],
      "text/plain": [
       "   Age   Gender              Race_Ethnicity  \\\n",
       "0   35   Female                 Unspecified   \n",
       "1   31   Female                 Unspecified   \n",
       "2   63     Male   Black or African American   \n",
       "3   29   Female                       White   \n",
       "4   33   Female   Black or African American   \n",
       "\n",
       "                                 Job_Level Annual_Salary  \\\n",
       "0           Administrative Support Workers          20.8   \n",
       "1   First/Mid-Level Officials and Managers          20.8   \n",
       "2                     Laborers and Helpers      9,547.20   \n",
       "3                            Sales Workers     10,400.00   \n",
       "4                            Sales Workers     10,400.00   \n",
       "\n",
       "                                          Position  CurrentPayGrade  \\\n",
       "0                 Benefits and Payroll Coordinator               11   \n",
       "1                                    Camp Director                7   \n",
       "2   Guest Services and Maintenance Specialist - PT               13   \n",
       "3             Customer Service Representative - PT               13   \n",
       "4             Customer Service Representative - PT               13   \n",
       "\n",
       "   TimewithCompany(yrs)  DistancetoWork(miles)  Hybrid/Remote  \\\n",
       "0                  0.33                   0.00              1   \n",
       "1                  0.92                  45.21              0   \n",
       "2                  3.58                  41.49              0   \n",
       "3                  1.25                  21.94              0   \n",
       "4                  7.50                   0.00              1   \n",
       "\n",
       "             Dept_Name  Salary_Max%  \n",
       "0                   HR         0.00  \n",
       "1    Outdoor Education         0.00  \n",
       "2  Risk and Facilities         0.21  \n",
       "3         Badge & Sash         0.23  \n",
       "4         Badge & Sash         0.23  "
      ]
     },
     "execution_count": 35,
     "metadata": {},
     "output_type": "execute_result"
    }
   ],
   "source": [
    "# Create outcome to new dataframe and drop target column and unnecessary \"EMPID\" column\n",
    "emp_data = employee_df.drop([\"Leaver(Y/N)\",\"EMPID\",\"Status\"], axis=1)\n",
    "emp_data.head()"
   ]
  },
  {
   "cell_type": "code",
   "execution_count": 36,
   "metadata": {},
   "outputs": [],
   "source": [
    "# Create target values to new dataframe and convert to numerical data\n",
    "target = employee_df[\"Leaver(Y/N)\"].values"
   ]
  },
  {
   "cell_type": "code",
   "execution_count": 37,
   "metadata": {},
   "outputs": [
    {
     "data": {
      "text/plain": [
       "0    242\n",
       "1    122\n",
       "Name: Hybrid/Remote, dtype: int64"
      ]
     },
     "execution_count": 37,
     "metadata": {},
     "output_type": "execute_result"
    }
   ],
   "source": [
    "#Convert columns with 2 or less unique values\n",
    "from sklearn.preprocessing import StandardScaler, MinMaxScaler, LabelEncoder\n",
    "\n",
    "# Label encoding the 'Status' column\n",
    "emp_data['Hybrid/Remote'] = LabelEncoder().fit_transform(emp_data['Hybrid/Remote'])\n",
    "emp_data['Hybrid/Remote'].value_counts()"
   ]
  },
  {
   "cell_type": "code",
   "execution_count": 38,
   "metadata": {},
   "outputs": [
    {
     "data": {
      "text/plain": [
       "array([0, 1, 1, 1, 1, 1, 1, 0, 1, 1, 1, 1, 1, 1, 1, 1, 0, 0, 0, 1, 0, 1,\n",
       "       1, 1, 0, 1, 0, 1, 1, 1, 1, 1, 1, 1, 1, 1, 1, 1, 1, 1, 1, 1, 0, 1,\n",
       "       0, 1, 1, 1, 1, 1, 1, 1, 1, 1, 1, 1, 1, 1, 1, 1, 1, 1, 0, 0, 0, 1,\n",
       "       1, 1, 1, 1, 1, 1, 1, 1, 0, 1, 1, 1, 1, 1, 1, 0, 0, 1, 1, 1, 1, 0,\n",
       "       1, 1, 1, 1, 1, 1, 1, 1, 1, 1, 0, 0, 1, 1, 1, 1, 1, 0, 1, 1, 0, 1,\n",
       "       1, 1, 1, 1, 1, 1, 1, 1, 0, 1, 1, 0, 1, 1, 1, 1, 0, 1, 0, 1, 1, 1,\n",
       "       1, 1, 1, 1, 1, 1, 1, 1, 1, 1, 1, 1, 1, 1, 1, 1, 1, 0, 1, 1, 1, 1,\n",
       "       1, 1, 0, 1, 1, 1, 1, 0, 0, 0, 0, 0, 1, 1, 1, 0, 1, 0, 0, 0, 0, 1,\n",
       "       1, 1, 1, 0, 1, 1, 1, 1, 0, 1, 0, 0, 1, 0, 0, 0, 0, 0, 0, 1, 0, 0,\n",
       "       0, 0, 1, 1, 1, 0, 1, 1, 1, 0, 0, 1, 0, 1, 1, 1, 0, 1, 1, 0, 1, 0,\n",
       "       0, 0, 0, 1, 0, 1, 0, 1, 0, 1, 0, 1, 1, 1, 1, 1, 1, 1, 1, 1, 1, 1,\n",
       "       0, 0, 1, 0, 1, 1, 1, 1, 1, 0, 1, 1, 0, 1, 0, 1, 1, 0, 1, 0, 1, 1,\n",
       "       1, 1, 0, 1, 0, 1, 1, 0, 0, 0, 1, 1, 1, 1, 0, 1, 1, 1, 0, 1, 0, 1,\n",
       "       0, 0, 0, 0, 1, 1, 0, 1, 1, 1, 0, 0, 1, 1, 1, 0, 1, 0, 0, 1, 0, 1,\n",
       "       0, 1, 1, 1, 1, 0, 1, 1, 0, 1, 0, 1, 0, 0, 0, 0, 1, 0, 0, 1, 0, 0,\n",
       "       0, 1, 0, 1, 1, 0, 1, 1, 1, 0, 1, 0, 1, 1, 0, 0, 1, 0, 1, 1, 0, 0,\n",
       "       1, 0, 1, 0, 1, 0, 1, 0, 0, 1, 1, 1])"
      ]
     },
     "execution_count": 38,
     "metadata": {},
     "output_type": "execute_result"
    }
   ],
   "source": [
    "# Converting output labels to 0 and 1\n",
    "y = LabelEncoder().fit_transform(target)\n",
    "y"
   ]
  },
  {
   "cell_type": "code",
   "execution_count": 39,
   "metadata": {},
   "outputs": [
    {
     "name": "stdout",
     "output_type": "stream",
     "text": [
      "Index(['Age', 'CurrentPayGrade', 'TimewithCompany(yrs)',\n",
      "       'DistancetoWork(miles)', 'Hybrid/Remote', 'Salary_Max%', 'Gender_ Male',\n",
      "       'Gender_ Unspecified', 'Race_Ethnicity_ Asian',\n",
      "       'Race_Ethnicity_ Black or African American',\n",
      "       ...\n",
      "       'Dept_Name_IT', 'Dept_Name_Marketing', 'Dept_Name_Membership',\n",
      "       'Dept_Name_Mission Delivery', 'Dept_Name_Outdoor Education',\n",
      "       'Dept_Name_Outdoor Program', 'Dept_Name_Outdoor Property',\n",
      "       'Dept_Name_Product Programs', 'Dept_Name_Program Support',\n",
      "       'Dept_Name_Risk and Facilities'],\n",
      "      dtype='object', length=453)\n"
     ]
    },
    {
     "data": {
      "text/html": [
       "<div>\n",
       "<style scoped>\n",
       "    .dataframe tbody tr th:only-of-type {\n",
       "        vertical-align: middle;\n",
       "    }\n",
       "\n",
       "    .dataframe tbody tr th {\n",
       "        vertical-align: top;\n",
       "    }\n",
       "\n",
       "    .dataframe thead th {\n",
       "        text-align: right;\n",
       "    }\n",
       "</style>\n",
       "<table border=\"1\" class=\"dataframe\">\n",
       "  <thead>\n",
       "    <tr style=\"text-align: right;\">\n",
       "      <th></th>\n",
       "      <th>Age</th>\n",
       "      <th>CurrentPayGrade</th>\n",
       "      <th>TimewithCompany(yrs)</th>\n",
       "      <th>DistancetoWork(miles)</th>\n",
       "      <th>Hybrid/Remote</th>\n",
       "      <th>Salary_Max%</th>\n",
       "      <th>Gender_ Male</th>\n",
       "      <th>Gender_ Unspecified</th>\n",
       "      <th>Race_Ethnicity_ Asian</th>\n",
       "      <th>Race_Ethnicity_ Black or African American</th>\n",
       "      <th>...</th>\n",
       "      <th>Dept_Name_IT</th>\n",
       "      <th>Dept_Name_Marketing</th>\n",
       "      <th>Dept_Name_Membership</th>\n",
       "      <th>Dept_Name_Mission Delivery</th>\n",
       "      <th>Dept_Name_Outdoor Education</th>\n",
       "      <th>Dept_Name_Outdoor Program</th>\n",
       "      <th>Dept_Name_Outdoor Property</th>\n",
       "      <th>Dept_Name_Product Programs</th>\n",
       "      <th>Dept_Name_Program Support</th>\n",
       "      <th>Dept_Name_Risk and Facilities</th>\n",
       "    </tr>\n",
       "  </thead>\n",
       "  <tbody>\n",
       "    <tr>\n",
       "      <th>0</th>\n",
       "      <td>35</td>\n",
       "      <td>11</td>\n",
       "      <td>0.33</td>\n",
       "      <td>0.00</td>\n",
       "      <td>1</td>\n",
       "      <td>0.00</td>\n",
       "      <td>0</td>\n",
       "      <td>0</td>\n",
       "      <td>0</td>\n",
       "      <td>0</td>\n",
       "      <td>...</td>\n",
       "      <td>0</td>\n",
       "      <td>0</td>\n",
       "      <td>0</td>\n",
       "      <td>0</td>\n",
       "      <td>0</td>\n",
       "      <td>0</td>\n",
       "      <td>0</td>\n",
       "      <td>0</td>\n",
       "      <td>0</td>\n",
       "      <td>0</td>\n",
       "    </tr>\n",
       "    <tr>\n",
       "      <th>1</th>\n",
       "      <td>31</td>\n",
       "      <td>7</td>\n",
       "      <td>0.92</td>\n",
       "      <td>45.21</td>\n",
       "      <td>0</td>\n",
       "      <td>0.00</td>\n",
       "      <td>0</td>\n",
       "      <td>0</td>\n",
       "      <td>0</td>\n",
       "      <td>0</td>\n",
       "      <td>...</td>\n",
       "      <td>0</td>\n",
       "      <td>0</td>\n",
       "      <td>0</td>\n",
       "      <td>0</td>\n",
       "      <td>1</td>\n",
       "      <td>0</td>\n",
       "      <td>0</td>\n",
       "      <td>0</td>\n",
       "      <td>0</td>\n",
       "      <td>0</td>\n",
       "    </tr>\n",
       "    <tr>\n",
       "      <th>2</th>\n",
       "      <td>63</td>\n",
       "      <td>13</td>\n",
       "      <td>3.58</td>\n",
       "      <td>41.49</td>\n",
       "      <td>0</td>\n",
       "      <td>0.21</td>\n",
       "      <td>1</td>\n",
       "      <td>0</td>\n",
       "      <td>0</td>\n",
       "      <td>1</td>\n",
       "      <td>...</td>\n",
       "      <td>0</td>\n",
       "      <td>0</td>\n",
       "      <td>0</td>\n",
       "      <td>0</td>\n",
       "      <td>0</td>\n",
       "      <td>0</td>\n",
       "      <td>0</td>\n",
       "      <td>0</td>\n",
       "      <td>0</td>\n",
       "      <td>1</td>\n",
       "    </tr>\n",
       "    <tr>\n",
       "      <th>3</th>\n",
       "      <td>29</td>\n",
       "      <td>13</td>\n",
       "      <td>1.25</td>\n",
       "      <td>21.94</td>\n",
       "      <td>0</td>\n",
       "      <td>0.23</td>\n",
       "      <td>0</td>\n",
       "      <td>0</td>\n",
       "      <td>0</td>\n",
       "      <td>0</td>\n",
       "      <td>...</td>\n",
       "      <td>0</td>\n",
       "      <td>0</td>\n",
       "      <td>0</td>\n",
       "      <td>0</td>\n",
       "      <td>0</td>\n",
       "      <td>0</td>\n",
       "      <td>0</td>\n",
       "      <td>0</td>\n",
       "      <td>0</td>\n",
       "      <td>0</td>\n",
       "    </tr>\n",
       "    <tr>\n",
       "      <th>4</th>\n",
       "      <td>33</td>\n",
       "      <td>13</td>\n",
       "      <td>7.50</td>\n",
       "      <td>0.00</td>\n",
       "      <td>1</td>\n",
       "      <td>0.23</td>\n",
       "      <td>0</td>\n",
       "      <td>0</td>\n",
       "      <td>0</td>\n",
       "      <td>1</td>\n",
       "      <td>...</td>\n",
       "      <td>0</td>\n",
       "      <td>0</td>\n",
       "      <td>0</td>\n",
       "      <td>0</td>\n",
       "      <td>0</td>\n",
       "      <td>0</td>\n",
       "      <td>0</td>\n",
       "      <td>0</td>\n",
       "      <td>0</td>\n",
       "      <td>0</td>\n",
       "    </tr>\n",
       "  </tbody>\n",
       "</table>\n",
       "<p>5 rows × 453 columns</p>\n",
       "</div>"
      ],
      "text/plain": [
       "   Age  CurrentPayGrade  TimewithCompany(yrs)  DistancetoWork(miles)  \\\n",
       "0   35               11                  0.33                   0.00   \n",
       "1   31                7                  0.92                  45.21   \n",
       "2   63               13                  3.58                  41.49   \n",
       "3   29               13                  1.25                  21.94   \n",
       "4   33               13                  7.50                   0.00   \n",
       "\n",
       "   Hybrid/Remote  Salary_Max%  Gender_ Male  Gender_ Unspecified  \\\n",
       "0              1         0.00             0                    0   \n",
       "1              0         0.00             0                    0   \n",
       "2              0         0.21             1                    0   \n",
       "3              0         0.23             0                    0   \n",
       "4              1         0.23             0                    0   \n",
       "\n",
       "   Race_Ethnicity_ Asian  Race_Ethnicity_ Black or African American  ...  \\\n",
       "0                      0                                          0  ...   \n",
       "1                      0                                          0  ...   \n",
       "2                      0                                          1  ...   \n",
       "3                      0                                          0  ...   \n",
       "4                      0                                          1  ...   \n",
       "\n",
       "   Dept_Name_IT  Dept_Name_Marketing  Dept_Name_Membership  \\\n",
       "0             0                    0                     0   \n",
       "1             0                    0                     0   \n",
       "2             0                    0                     0   \n",
       "3             0                    0                     0   \n",
       "4             0                    0                     0   \n",
       "\n",
       "   Dept_Name_Mission Delivery  Dept_Name_Outdoor Education  \\\n",
       "0                           0                            0   \n",
       "1                           0                            1   \n",
       "2                           0                            0   \n",
       "3                           0                            0   \n",
       "4                           0                            0   \n",
       "\n",
       "   Dept_Name_Outdoor Program  Dept_Name_Outdoor Property  \\\n",
       "0                          0                           0   \n",
       "1                          0                           0   \n",
       "2                          0                           0   \n",
       "3                          0                           0   \n",
       "4                          0                           0   \n",
       "\n",
       "   Dept_Name_Product Programs  Dept_Name_Program Support  \\\n",
       "0                           0                          0   \n",
       "1                           0                          0   \n",
       "2                           0                          0   \n",
       "3                           0                          0   \n",
       "4                           0                          0   \n",
       "\n",
       "   Dept_Name_Risk and Facilities  \n",
       "0                              0  \n",
       "1                              0  \n",
       "2                              1  \n",
       "3                              0  \n",
       "4                              0  \n",
       "\n",
       "[5 rows x 453 columns]"
      ]
     },
     "execution_count": 39,
     "metadata": {},
     "output_type": "execute_result"
    }
   ],
   "source": [
    "# Convert remaining categorical data to numerical in dataframe\n",
    "X = pd.get_dummies(emp_data,drop_first=True)\n",
    "print(X.columns)\n",
    "X.head()"
   ]
  },
  {
   "cell_type": "code",
   "execution_count": 40,
   "metadata": {
    "scrolled": true
   },
   "outputs": [
    {
     "name": "stdout",
     "output_type": "stream",
     "text": [
      "[[-0.51054851  0.59168839 -0.77830297 ... -0.14990634 -0.34141531\n",
      "  -0.18463724]\n",
      " [-0.84404273 -0.65685987 -0.66419062 ... -0.14990634 -0.34141531\n",
      "  -0.18463724]\n",
      " [ 1.82391107  1.21596252 -0.149718   ... -0.14990634 -0.34141531\n",
      "   5.4160256 ]\n",
      " ...\n",
      " [ 0.15643994  1.21596252  2.75144344 ... -0.14990634 -0.34141531\n",
      "  -0.18463724]\n",
      " [-0.17705428  1.21596252 -0.37407448 ... -0.14990634 -0.34141531\n",
      "  -0.18463724]\n",
      " [-0.84404273  1.21596252 -0.50365969 ... -0.14990634 -0.34141531\n",
      "  -0.18463724]]\n"
     ]
    }
   ],
   "source": [
    "# Scale the data\n",
    "scaler = StandardScaler()\n",
    "X_scaled_data = scaler.fit_transform(X)\n",
    "print(X_scaled_data[0:10])"
   ]
  },
  {
   "cell_type": "code",
   "execution_count": 41,
   "metadata": {},
   "outputs": [
    {
     "name": "stdout",
     "output_type": "stream",
     "text": [
      "Number of X_train transactions:  (273, 453)\n",
      "Number of y_train transactions:  (273,)\n",
      "Number of X_test transactions:  (91, 453)\n",
      "Number of y_test transactions:  (91,)\n"
     ]
    }
   ],
   "source": [
    "from sklearn.model_selection import train_test_split\n",
    "from sklearn.metrics import confusion_matrix, classification_report\n",
    "\n",
    "X_train, X_test, y_train, y_test = train_test_split(X_scaled_data, y, test_size=.25, random_state=5, stratify=target)\n",
    "\n",
    "print(\"Number of X_train transactions: \", X_train.shape)\n",
    "print(\"Number of y_train transactions: \", y_train.shape)\n",
    "print(\"Number of X_test transactions: \", X_test.shape)\n",
    "print(\"Number of y_test transactions: \", y_test.shape)"
   ]
  },
  {
   "cell_type": "code",
   "execution_count": null,
   "metadata": {},
   "outputs": [],
   "source": [
    "# # Import Dependencies to convert categorical data, Algorithm and ProofType, into numerical data\n",
    "# from sklearn.preprocessing import StandardScaler, MinMaxScaler, LabelEncoder\n",
    "\n",
    "\n",
    "# # Label encoding the 'Leaver?' column\n",
    "# employee_df['Leaver(Y/N)'] = LabelEncoder().fit_transform(employee_df['Leaver(Y/N)'])\n",
    "# employee_df['Leaver(Y/N)'].value_counts()"
   ]
  },
  {
   "cell_type": "code",
   "execution_count": null,
   "metadata": {},
   "outputs": [],
   "source": [
    "# # Import Dependencies to convert categorical data, Algorithm and ProofType, into numerica data\n",
    "# from sklearn.preprocessing import StandardScaler, MinMaxScaler, LabelEncoder\n",
    "\n",
    "# # Label encoding the 'Gender' column\n",
    "# employee_df['Gender'] = LabelEncoder().fit_transform(employee_df['Gender'])\n",
    "# employee_df['Gender'].value_counts()"
   ]
  },
  {
   "cell_type": "code",
   "execution_count": null,
   "metadata": {},
   "outputs": [],
   "source": [
    "# # Label encoding the 'Department' column\n",
    "# employee_df['Dept_Name'] = LabelEncoder().fit_transform(employee_df['Dept_Name'])\n",
    "# employee_df['Dept_Name'].value_counts()"
   ]
  },
  {
   "cell_type": "code",
   "execution_count": null,
   "metadata": {},
   "outputs": [],
   "source": [
    "# # Label encoding the 'MaritalStatus' column\n",
    "# employee_df['Age'] = LabelEncoder().fit_transform(employee_df['Age'])\n",
    "# employee_df['Age'].value_counts()"
   ]
  },
  {
   "cell_type": "code",
   "execution_count": null,
   "metadata": {},
   "outputs": [],
   "source": [
    "# # Label encoding the 'Business Travel' column\n",
    "# employee_df['Job_Level'] = LabelEncoder().fit_transform(employee_df['Job_Level'])\n",
    "# employee_df['Job_Level'].value_counts()"
   ]
  },
  {
   "cell_type": "code",
   "execution_count": null,
   "metadata": {},
   "outputs": [],
   "source": [
    "# # Label encoding the 'Education Field' column\n",
    "# employee_df['Annual_Salary'] = LabelEncoder().fit_transform(employee_df['Annual_Salary'])\n",
    "# employee_df['Annual_Salary'].value_counts()"
   ]
  },
  {
   "cell_type": "code",
   "execution_count": null,
   "metadata": {},
   "outputs": [],
   "source": [
    "# # Label encoding the 'Job Role' column\n",
    "# employee_df['CurrentPayGrade'] = LabelEncoder().fit_transform(employee_df['CurrentPayGrade'])\n",
    "# employee_df['CurrentPayGrade'].value_counts()"
   ]
  },
  {
   "cell_type": "code",
   "execution_count": null,
   "metadata": {
    "scrolled": true
   },
   "outputs": [],
   "source": [
    "# # Label encoding the 'Over Time' column\n",
    "# employee_df['TimewithCompany(yrs)'] = LabelEncoder().fit_transform(employee_df['TimewithCompany(yrs)'])\n",
    "# employee_df['TimewithCompany(yrs)'].value_counts()"
   ]
  },
  {
   "cell_type": "code",
   "execution_count": null,
   "metadata": {
    "scrolled": false
   },
   "outputs": [],
   "source": [
    "# # Label encoding the 'Over 18' column\n",
    "# employee_df['DistancetoWork(miles)'] = LabelEncoder().fit_transform(employee_df['DistancetoWork(miles)'])\n",
    "# employee_df['DistancetoWork(miles)'].value_counts()"
   ]
  },
  {
   "cell_type": "code",
   "execution_count": null,
   "metadata": {},
   "outputs": [],
   "source": [
    "# # Label encoding the 'Over 18' column\n",
    "# employee_df['Salary_Max%'] = LabelEncoder().fit_transform(employee_df['Salary_Max%'])\n",
    "# employee_df['Salary_Max%'].value_counts()"
   ]
  },
  {
   "cell_type": "code",
   "execution_count": null,
   "metadata": {},
   "outputs": [],
   "source": [
    "# # Label encoding the 'Over 18' column\n",
    "# employee_df['Race_Ethnicity'] = LabelEncoder().fit_transform(employee_df['Race_Ethnicity'])\n",
    "# employee_df['Race_Ethnicity'].value_counts()"
   ]
  },
  {
   "cell_type": "code",
   "execution_count": null,
   "metadata": {},
   "outputs": [],
   "source": [
    "# employee_clean=employee_df.drop(['EMPID'], axis = 1)\n",
    "\n",
    "# employee_clean"
   ]
  },
  {
   "cell_type": "code",
   "execution_count": null,
   "metadata": {},
   "outputs": [],
   "source": [
    "# employee_clean.shape"
   ]
  },
  {
   "cell_type": "code",
   "execution_count": null,
   "metadata": {
    "scrolled": false
   },
   "outputs": [],
   "source": [
    "# target = employee_clean[\"Leaver(Y/N)\"].copy()\n",
    "# target.head()"
   ]
  },
  {
   "cell_type": "code",
   "execution_count": 42,
   "metadata": {},
   "outputs": [],
   "source": [
    "from sklearn.linear_model import LogisticRegression\n",
    "from sklearn.ensemble import RandomForestClassifier\n",
    "from sklearn.svm import SVC\n",
    "from sklearn.naive_bayes import GaussianNB\n",
    "from sklearn.tree import DecisionTreeClassifier\n",
    "from sklearn.neighbors import KNeighborsClassifier\n",
    "\n",
    "\n",
    "# selection of algorithms to consider and set performance measure\n",
    "models = []\n",
    "models.append(('Logistic Regression', LogisticRegression(solver='liblinear', random_state=7,\n",
    "                                                         class_weight='balanced')))\n",
    "models.append(('Random Forest', RandomForestClassifier(\n",
    "    n_estimators=100, random_state=7)))\n",
    "models.append(('SVM', SVC(gamma='auto', random_state=7)))\n",
    "models.append(('KNN', KNeighborsClassifier()))\n",
    "models.append(('Decision Tree Classifier',\n",
    "               DecisionTreeClassifier(random_state=7)))\n",
    "models.append(('Gaussian NB', GaussianNB()))"
   ]
  },
  {
   "cell_type": "code",
   "execution_count": 43,
   "metadata": {},
   "outputs": [
    {
     "data": {
      "text/html": [
       "<div>\n",
       "<style scoped>\n",
       "    .dataframe tbody tr th:only-of-type {\n",
       "        vertical-align: middle;\n",
       "    }\n",
       "\n",
       "    .dataframe tbody tr th {\n",
       "        vertical-align: top;\n",
       "    }\n",
       "\n",
       "    .dataframe thead th {\n",
       "        text-align: right;\n",
       "    }\n",
       "</style>\n",
       "<table border=\"1\" class=\"dataframe\">\n",
       "  <thead>\n",
       "    <tr style=\"text-align: right;\">\n",
       "      <th></th>\n",
       "      <th>Algorithm</th>\n",
       "      <th>ROC AUC Mean</th>\n",
       "      <th>ROC AUC STD</th>\n",
       "      <th>Accuracy Mean</th>\n",
       "      <th>Accuracy STD</th>\n",
       "    </tr>\n",
       "  </thead>\n",
       "  <tbody>\n",
       "    <tr>\n",
       "      <th>1</th>\n",
       "      <td>Random Forest</td>\n",
       "      <td>73.61</td>\n",
       "      <td>7.28</td>\n",
       "      <td>70.67</td>\n",
       "      <td>6.43</td>\n",
       "    </tr>\n",
       "    <tr>\n",
       "      <th>2</th>\n",
       "      <td>SVM</td>\n",
       "      <td>65.03</td>\n",
       "      <td>11.98</td>\n",
       "      <td>68.52</td>\n",
       "      <td>6.02</td>\n",
       "    </tr>\n",
       "    <tr>\n",
       "      <th>4</th>\n",
       "      <td>Decision Tree Classifier</td>\n",
       "      <td>60.43</td>\n",
       "      <td>10.15</td>\n",
       "      <td>66.26</td>\n",
       "      <td>8.60</td>\n",
       "    </tr>\n",
       "    <tr>\n",
       "      <th>3</th>\n",
       "      <td>KNN</td>\n",
       "      <td>59.61</td>\n",
       "      <td>12.00</td>\n",
       "      <td>61.44</td>\n",
       "      <td>10.34</td>\n",
       "    </tr>\n",
       "    <tr>\n",
       "      <th>5</th>\n",
       "      <td>Gaussian NB</td>\n",
       "      <td>59.36</td>\n",
       "      <td>6.69</td>\n",
       "      <td>53.80</td>\n",
       "      <td>8.03</td>\n",
       "    </tr>\n",
       "    <tr>\n",
       "      <th>0</th>\n",
       "      <td>Logistic Regression</td>\n",
       "      <td>58.18</td>\n",
       "      <td>11.94</td>\n",
       "      <td>56.08</td>\n",
       "      <td>8.82</td>\n",
       "    </tr>\n",
       "  </tbody>\n",
       "</table>\n",
       "</div>"
      ],
      "text/plain": [
       "                  Algorithm  ROC AUC Mean  ROC AUC STD  Accuracy Mean  \\\n",
       "1             Random Forest         73.61         7.28          70.67   \n",
       "2                       SVM         65.03        11.98          68.52   \n",
       "4  Decision Tree Classifier         60.43        10.15          66.26   \n",
       "3                       KNN         59.61        12.00          61.44   \n",
       "5               Gaussian NB         59.36         6.69          53.80   \n",
       "0       Logistic Regression         58.18        11.94          56.08   \n",
       "\n",
       "   Accuracy STD  \n",
       "1          6.43  \n",
       "2          6.02  \n",
       "4          8.60  \n",
       "3         10.34  \n",
       "5          8.03  \n",
       "0          8.82  "
      ]
     },
     "execution_count": 43,
     "metadata": {},
     "output_type": "execute_result"
    }
   ],
   "source": [
    "from sklearn import model_selection\n",
    "\n",
    "acc_results = []\n",
    "auc_results = []\n",
    "names = []\n",
    "# set table to table to populate with performance results\n",
    "col = ['Algorithm', 'ROC AUC Mean', 'ROC AUC STD', \n",
    "       'Accuracy Mean', 'Accuracy STD']\n",
    "results_df = pd.DataFrame(columns=col)\n",
    "i = 0\n",
    "# evaluate each model using cross-validation\n",
    "for name, model in models:\n",
    "    kfold = model_selection.KFold(\n",
    "        n_splits=10)  # 10-fold cross-validation\n",
    "\n",
    "    cv_acc_results = model_selection.cross_val_score(  # accuracy scoring\n",
    "        model, X_train, y_train, cv=kfold, scoring='accuracy')\n",
    "\n",
    "    cv_auc_results = model_selection.cross_val_score(  # roc_auc scoring\n",
    "        model, X_train, y_train, cv=kfold, scoring='roc_auc')\n",
    "\n",
    "    acc_results.append(cv_acc_results)\n",
    "    auc_results.append(cv_auc_results)\n",
    "    names.append(name)\n",
    "    results_df.loc[i] = [name,\n",
    "                         round(cv_auc_results.mean()*100, 2),\n",
    "                         round(cv_auc_results.std()*100, 2),\n",
    "                         round(cv_acc_results.mean()*100, 2),\n",
    "                         round(cv_acc_results.std()*100, 2)\n",
    "                         ]\n",
    "    i += 1\n",
    "results_df.sort_values(by=['ROC AUC Mean'], ascending=False)"
   ]
  },
  {
   "cell_type": "code",
   "execution_count": 44,
   "metadata": {},
   "outputs": [
    {
     "data": {
      "image/png": "[encoded data removed]",
      "text/plain": [
       "<Figure size 1080x504 with 1 Axes>"
      ]
     },
     "metadata": {
      "needs_background": "light"
     },
     "output_type": "display_data"
    }
   ],
   "source": [
    "fig = plt.figure(figsize=(15, 7))\n",
    "fig.suptitle('Algorithm Accuracy Comparison')\n",
    "ax = fig.add_subplot(111)\n",
    "plt.boxplot(acc_results)\n",
    "ax.set_xticklabels(names)\n",
    "plt.show()"
   ]
  },
  {
   "cell_type": "code",
   "execution_count": 45,
   "metadata": {},
   "outputs": [
    {
     "data": {
      "image/png": "[encoded data removed]",
      "text/plain": [
       "<Figure size 1080x504 with 1 Axes>"
      ]
     },
     "metadata": {
      "needs_background": "light"
     },
     "output_type": "display_data"
    }
   ],
   "source": [
    "fig = plt.figure(figsize=(15, 7))\n",
    "fig.suptitle('Algorithm ROC AUC Comparison')\n",
    "ax = fig.add_subplot(111)\n",
    "plt.boxplot(auc_results)\n",
    "ax.set_xticklabels(names)\n",
    "plt.show()"
   ]
  },
  {
   "cell_type": "code",
   "execution_count": 46,
   "metadata": {},
   "outputs": [
    {
     "data": {
      "text/plain": [
       "SVC(kernel='linear')"
      ]
     },
     "execution_count": 46,
     "metadata": {},
     "output_type": "execute_result"
    }
   ],
   "source": [
    "# Support vector machine linear classifier\n",
    "from sklearn.svm import SVC \n",
    "model = SVC(kernel='linear')\n",
    "model.fit(X_train, y_train)\n"
   ]
  },
  {
   "cell_type": "code",
   "execution_count": 47,
   "metadata": {},
   "outputs": [
    {
     "data": {
      "text/plain": [
       "SVC(gamma='auto', kernel='linear', random_state=7)"
      ]
     },
     "execution_count": 47,
     "metadata": {},
     "output_type": "execute_result"
    }
   ],
   "source": [
    "from sklearn import *\n",
    "\n",
    "SVC(C=1.0, break_ties=False, cache_size=200, class_weight=None, coef0=0.0,\n",
    "    decision_function_shape='ovr', degree=3, gamma='auto', kernel='linear',\n",
    "    max_iter=-1, probability=False, random_state=7, shrinking=True,\n",
    "    tol=0.001, verbose=False)"
   ]
  },
  {
   "cell_type": "code",
   "execution_count": 48,
   "metadata": {},
   "outputs": [
    {
     "name": "stdout",
     "output_type": "stream",
     "text": [
      "Test Acc: 0.637\n"
     ]
    }
   ],
   "source": [
    "# Model Accuracy\n",
    "print('Test Acc: %.3f' % model.score(X_test, y_test))"
   ]
  },
  {
   "cell_type": "code",
   "execution_count": 49,
   "metadata": {},
   "outputs": [
    {
     "name": "stdout",
     "output_type": "stream",
     "text": [
      "              precision    recall  f1-score   support\n",
      "\n",
      "           0       0.40      0.20      0.27        30\n",
      "           1       0.68      0.85      0.76        61\n",
      "\n",
      "    accuracy                           0.64        91\n",
      "   macro avg       0.54      0.53      0.51        91\n",
      "weighted avg       0.59      0.64      0.60        91\n",
      "\n"
     ]
    }
   ],
   "source": [
    "# Calculate the classification report\n",
    "from sklearn.metrics import classification_report\n",
    "predictions = model.predict(X_test)\n",
    "print(classification_report(y_test, predictions))"
   ]
  },
  {
   "cell_type": "code",
   "execution_count": 50,
   "metadata": {},
   "outputs": [
    {
     "data": {
      "text/plain": [
       "LogisticRegression()"
      ]
     },
     "execution_count": 50,
     "metadata": {},
     "output_type": "execute_result"
    }
   ],
   "source": [
    "# Train the Logistic Regression model on the unscaled data and print the model score\n",
    "from sklearn.linear_model import LogisticRegression\n",
    "model = LogisticRegression()\n",
    "model"
   ]
  },
  {
   "cell_type": "code",
   "execution_count": 51,
   "metadata": {},
   "outputs": [
    {
     "data": {
      "text/plain": [
       "LogisticRegression()"
      ]
     },
     "execution_count": 51,
     "metadata": {},
     "output_type": "execute_result"
    }
   ],
   "source": [
    "# Fit the training model using the training data\n",
    "model.fit(X_train, y_train)"
   ]
  },
  {
   "cell_type": "code",
   "execution_count": 52,
   "metadata": {},
   "outputs": [
    {
     "name": "stdout",
     "output_type": "stream",
     "text": [
      "Training Score: 0.9853479853479854\n",
      "Testing Score: 0.6153846153846154\n"
     ]
    }
   ],
   "source": [
    "# Print the training and test scores\n",
    "print(f\"Training Score: {model.score(X_train, y_train)}\")\n",
    "print(f\"Testing Score: {model.score(X_test, y_test)}\")"
   ]
  },
  {
   "cell_type": "code",
   "execution_count": 53,
   "metadata": {},
   "outputs": [
    {
     "data": {
      "text/plain": [
       "array([[ 4, 26],\n",
       "       [ 9, 52]], dtype=int64)"
      ]
     },
     "execution_count": 53,
     "metadata": {},
     "output_type": "execute_result"
    }
   ],
   "source": [
    "# Create Confusion Matrix of the predicted vs the actual outcomes\n",
    "y_true = y_test\n",
    "y_pred = model.predict(X_test)\n",
    "confusion_matrix(y_true, y_pred)"
   ]
  },
  {
   "cell_type": "code",
   "execution_count": 54,
   "metadata": {},
   "outputs": [
    {
     "name": "stdout",
     "output_type": "stream",
     "text": [
      "              precision    recall  f1-score   support\n",
      "\n",
      "           0       0.31      0.13      0.19        30\n",
      "           1       0.67      0.85      0.75        61\n",
      "\n",
      "    accuracy                           0.62        91\n",
      "   macro avg       0.49      0.49      0.47        91\n",
      "weighted avg       0.55      0.62      0.56        91\n",
      "\n"
     ]
    }
   ],
   "source": [
    "# Create the Classification Report and compare\n",
    "from sklearn.metrics import classification_report\n",
    "\n",
    "print(classification_report(y_true, y_pred))"
   ]
  },
  {
   "cell_type": "code",
   "execution_count": 55,
   "metadata": {},
   "outputs": [],
   "source": [
    "# Train a Random Forest Classifier model and print the model score\n",
    "from sklearn.ensemble import RandomForestClassifier\n",
    "\n",
    "clf = RandomForestClassifier(random_state=1, n_estimators=500).fit(X_train, y_train)\n"
   ]
  },
  {
   "cell_type": "code",
   "execution_count": 56,
   "metadata": {},
   "outputs": [
    {
     "name": "stdout",
     "output_type": "stream",
     "text": [
      "Training Score: 1.0\n",
      "Testing Score: 0.6813186813186813\n"
     ]
    }
   ],
   "source": [
    "print(f'Training Score: {clf.score(X_train, y_train)}')\n",
    "print(f'Testing Score: {clf.score(X_test, y_test)}')"
   ]
  },
  {
   "cell_type": "code",
   "execution_count": 51,
   "metadata": {},
   "outputs": [
    {
     "data": {
      "text/plain": [
       "array([[ 7, 23],\n",
       "       [ 6, 55]])"
      ]
     },
     "execution_count": 51,
     "metadata": {},
     "output_type": "execute_result"
    }
   ],
   "source": [
    "# Create Confusion Matrix of the predicted vs the actual outcomes\n",
    "from sklearn.metrics import confusion_matrix\n",
    "\n",
    "y_true = y_test\n",
    "y_pred = clf.predict(X_test)\n",
    "confusion_matrix(y_true, y_pred)"
   ]
  },
  {
   "cell_type": "code",
   "execution_count": 52,
   "metadata": {},
   "outputs": [
    {
     "name": "stdout",
     "output_type": "stream",
     "text": [
      "              precision    recall  f1-score   support\n",
      "\n",
      "           0       0.54      0.23      0.33        30\n",
      "           1       0.71      0.90      0.79        61\n",
      "\n",
      "    accuracy                           0.68        91\n",
      "   macro avg       0.62      0.57      0.56        91\n",
      "weighted avg       0.65      0.68      0.64        91\n",
      "\n"
     ]
    }
   ],
   "source": [
    "# Create the Classification Report and compare\n",
    "from sklearn.metrics import classification_report\n",
    "\n",
    "print(classification_report(y_true, y_pred))"
   ]
  },
  {
   "cell_type": "code",
   "execution_count": 53,
   "metadata": {},
   "outputs": [
    {
     "name": "stdout",
     "output_type": "stream",
     "text": [
      "====================\n",
      "best params: RandomForestClassifier(class_weight='balanced', max_depth=20,\n",
      "                       min_samples_split=8, n_estimators=175, random_state=7)\n",
      "best params: {'max_depth': 20, 'min_samples_leaf': 1, 'min_samples_split': 8, 'n_estimators': 175}\n",
      "best score: 0.7872319688109162\n",
      "====================\n"
     ]
    }
   ],
   "source": [
    "from sklearn.model_selection import GridSearchCV\n",
    "\n",
    "rf_classifier = RandomForestClassifier(class_weight = \"balanced\",\n",
    "                                       random_state=7)\n",
    "param_grid = {'n_estimators': [50, 75, 100, 125, 150, 175],\n",
    "              'min_samples_split':[2,4,6,8,10],\n",
    "              'min_samples_leaf': [1, 2, 3, 4],\n",
    "              'max_depth': [5, 10, 15, 20, 25]}\n",
    "\n",
    "grid_obj = GridSearchCV(rf_classifier,\n",
    "                        return_train_score=True,\n",
    "                        param_grid=param_grid,\n",
    "                        scoring='roc_auc',\n",
    "                        cv=10)\n",
    "\n",
    "grid_fit = grid_obj.fit(X_train, y_train)\n",
    "rf_opt = grid_fit.best_estimator_\n",
    "\n",
    "print('='*20)\n",
    "print(\"best params: \" + str(grid_obj.best_estimator_))\n",
    "print(\"best params: \" + str(grid_obj.best_params_))\n",
    "print('best score:', grid_obj.best_score_)\n",
    "print('='*20)"
   ]
  },
  {
   "cell_type": "code",
   "execution_count": null,
   "metadata": {},
   "outputs": [],
   "source": []
  }
 ],
 "metadata": {
  "kernelspec": {
   "display_name": "Python 3",
   "language": "python",
   "name": "python3"
  },
  "language_info": {
   "codemirror_mode": {
    "name": "ipython",
    "version": 3
   },
   "file_extension": ".py",
   "mimetype": "text/x-python",
   "name": "python",
   "nbconvert_exporter": "python",
   "pygments_lexer": "ipython3",
   "version": "3.8.8"
  }
 },
 "nbformat": 4,
 "nbformat_minor": 4
}
